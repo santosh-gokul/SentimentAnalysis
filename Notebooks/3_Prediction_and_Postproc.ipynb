{
  "nbformat": 4,
  "nbformat_minor": 0,
  "metadata": {
    "colab": {
      "name": "Prediction_and_Postproc.ipynb",
      "provenance": [],
      "collapsed_sections": []
    },
    "kernelspec": {
      "name": "python3",
      "display_name": "Python 3"
    },
    "accelerator": "GPU"
  },
  "cells": [
    {
      "cell_type": "code",
      "metadata": {
        "id": "upnLOnuq1vgQ",
        "colab_type": "code",
        "colab": {}
      },
      "source": [
        "#All libraries used.\n",
        "from google.colab import drive\n",
        "import pandas as pd\n",
        "import numpy as np\n",
        "import pickle as pkl\n",
        "import keras\n",
        "import tensorflow as tf\n",
        "from keras.preprocessing.sequence import pad_sequences\n",
        "from keras.preprocessing.text import Tokenizer\n",
        "import re\n",
        "import matplotlib.pyplot as plt \n"
      ],
      "execution_count": 1,
      "outputs": []
    },
    {
      "cell_type": "code",
      "metadata": {
        "id": "J4JozE7qALkB",
        "colab_type": "code",
        "colab": {
          "base_uri": "https://localhost:8080/",
          "height": 34
        },
        "outputId": "df39d52f-1e01-4dc6-afc3-1c4984b826e9"
      },
      "source": [
        "drive.mount('/content/gdrive')\n"
      ],
      "execution_count": 2,
      "outputs": [
        {
          "output_type": "stream",
          "text": [
            "Drive already mounted at /content/gdrive; to attempt to forcibly remount, call drive.mount(\"/content/gdrive\", force_remount=True).\n"
          ],
          "name": "stdout"
        }
      ]
    },
    {
      "cell_type": "code",
      "metadata": {
        "id": "exMK6xomAdoA",
        "colab_type": "code",
        "colab": {
          "base_uri": "https://localhost:8080/",
          "height": 34
        },
        "outputId": "32f6bfed-4588-45f4-8fe7-2b8c1a5faa8c"
      },
      "source": [
        "cd gdrive/My\\ Drive/73Strings"
      ],
      "execution_count": 3,
      "outputs": [
        {
          "output_type": "stream",
          "text": [
            "/content/gdrive/My Drive/73Strings\n"
          ],
          "name": "stdout"
        }
      ]
    },
    {
      "cell_type": "code",
      "metadata": {
        "id": "2WLvzUvqAb1F",
        "colab_type": "code",
        "colab": {}
      },
      "source": [
        "#I've already extracted the phone reviews of 12(Actually 11, one got duplicated).\n",
        "#UnPickling the saved reviews\n",
        "with open('phone_reviews_new_lap2.pkl','rb') as file1:\n",
        "  p1 = pkl.load(file1)\n",
        "with open('phone_reviews_new_lap3.pkl','rb') as file1:\n",
        "  p2 = pkl.load(file1)\n",
        "with open('phone_reviews_new_lap.pkl','rb') as file1:\n",
        "  p3 = pkl.load(file1)\n",
        "with open('phone_reviews_new_phone.pkl','rb') as file1:\n",
        "  p4 = pkl.load(file1)\n",
        "phone_rev = []\n",
        "phone_rev.extend(p1)\n",
        "phone_rev.extend(p2)\n",
        "phone_rev.extend(p3)\n",
        "phone_rev.extend(p4)"
      ],
      "execution_count": 4,
      "outputs": []
    },
    {
      "cell_type": "code",
      "metadata": {
        "id": "jJKyRKnp1kIy",
        "colab_type": "code",
        "colab": {}
      },
      "source": [
        "#The first phone is duplicated, so removing it from the list\n",
        "phone_rev.pop(0)"
      ],
      "execution_count": null,
      "outputs": []
    },
    {
      "cell_type": "code",
      "metadata": {
        "id": "kUA1HRACMwfK",
        "colab_type": "code",
        "colab": {
          "base_uri": "https://localhost:8080/",
          "height": 212
        },
        "outputId": "0381ff43-bf65-4438-c2f4-a0719aaae4ff"
      },
      "source": [
        "#Just printing the phone names\n",
        "for phone in phone_rev:\n",
        "  print(phone['name'])"
      ],
      "execution_count": 6,
      "outputs": [
        {
          "output_type": "stream",
          "text": [
            "Samsung Galaxy M31 (Ocean Blue, 6GB RAM, 64GB Storage)\n",
            "Samsung Galaxy M21 (Raven Black, 6GB RAM, 128GB Storage)\n",
            "Samsung Galaxy M31 (Space Black, 6GB RAM, 64GB Storage)\n",
            "OPPO A5 2020 (Dazzling White, 4GB RAM, 64GB Storage) with No Cost EMI/Additional Exchange Offers\n",
            "Samsung Galaxy M21 (Raven Black, 4GB RAM, 64GB Storage)\n",
            "Samsung Galaxy M21 (Midnight Blue, 6GB RAM, 128GB Storage)\n",
            "OnePlus 7T (Glacier Blue, 8GB RAM, Fluid AMOLED Display, 256GB Storage, 3800mAH Battery)\n",
            "Redmi Note 9 (Aqua Green, 4GB RAM 128GB Storage) - 48MP Quad Camera & Full HD+ Display\n",
            "Redmi 8A Dual (Sky White, 3GB RAM, 32GB Storage) – Dual Cameras & 5,000 mAH Battery\n",
            "Redmi Note 8 (Moonlight White, 4GB RAM, 64GB Storage)\n",
            "Redmi Note 9 Pro Max (Interstellar Black, 6GB RAM, 128GB Storage) - 64MP Quad Camera & Latest 8nm Snapdragon 720G\n"
          ],
          "name": "stdout"
        }
      ]
    },
    {
      "cell_type": "code",
      "metadata": {
        "id": "nXt1mITBBNPP",
        "colab_type": "code",
        "colab": {}
      },
      "source": [
        "#Star ratings that has been extracted is of the form : 100% of reviews have 4 stars.\n",
        "#Therefore I've used regular expression to extract just the --100-- part out of the entire sentence, to give an example..\n",
        "\n",
        "#star_stats_refined contains the star ratings for all the phones.\n",
        "#star_stats_refined_per_phone contains star ratings per phone in the order [numberOf(5*),numberOf(4*)..]\n",
        "star_stats_refined = []\n",
        "for item in phone_rev:\n",
        "  star_stats_refined_per_phone = []\n",
        "  for item2 in item['star_stats']:\n",
        "    star_stats_refined_per_phone.append(re.findall(\"\\d+%\",item2)[0][:-1])\n",
        "  star_stats_refined.append(star_stats_refined_per_phone)"
      ],
      "execution_count": 7,
      "outputs": []
    },
    {
      "cell_type": "code",
      "metadata": {
        "id": "Axc0wcRlXkcS",
        "colab_type": "code",
        "colab": {
          "base_uri": "https://localhost:8080/",
          "height": 212
        },
        "outputId": "076973cf-cf10-428f-9fcb-d724b6624f75"
      },
      "source": [
        "star_stats_refined"
      ],
      "execution_count": 9,
      "outputs": [
        {
          "output_type": "execute_result",
          "data": {
            "text/plain": [
              "[['64', '20', '5', '3', '8'],\n",
              " ['59', '23', '6', '3', '8'],\n",
              " ['64', '20', '5', '3', '8'],\n",
              " ['55', '23', '9', '3', '10'],\n",
              " ['59', '23', '6', '3', '8'],\n",
              " ['59', '23', '6', '3', '8'],\n",
              " ['72', '17', '4', '2', '6'],\n",
              " ['100'],\n",
              " ['52', '25', '9', '3', '11'],\n",
              " ['60', '24', '7', '3', '7'],\n",
              " ['60', '21', '6', '3', '10']]"
            ]
          },
          "metadata": {
            "tags": []
          },
          "execution_count": 9
        }
      ]
    },
    {
      "cell_type": "code",
      "metadata": {
        "id": "fp7wqafleGfw",
        "colab_type": "code",
        "colab": {
          "base_uri": "https://localhost:8080/",
          "height": 212
        },
        "outputId": "21366fe7-7478-4adc-89cc-e9e859104515"
      },
      "source": [
        "#Further refining star_stats_refined so that every element is an integer, and star count of 5 through 1 is present for all phones.\n",
        "np_star_stats_refined = np.zeros((11,5))\n",
        "for i in range(len(star_stats_refined)):\n",
        "  np_star_stats_refined[i][:len(star_stats_refined[i])] = star_stats_refined[i]\n",
        "np_star_stats_refined"
      ],
      "execution_count": 8,
      "outputs": [
        {
          "output_type": "execute_result",
          "data": {
            "text/plain": [
              "array([[ 64.,  20.,   5.,   3.,   8.],\n",
              "       [ 59.,  23.,   6.,   3.,   8.],\n",
              "       [ 64.,  20.,   5.,   3.,   8.],\n",
              "       [ 55.,  23.,   9.,   3.,  10.],\n",
              "       [ 59.,  23.,   6.,   3.,   8.],\n",
              "       [ 59.,  23.,   6.,   3.,   8.],\n",
              "       [ 72.,  17.,   4.,   2.,   6.],\n",
              "       [100.,   0.,   0.,   0.,   0.],\n",
              "       [ 52.,  25.,   9.,   3.,  11.],\n",
              "       [ 60.,  24.,   7.,   3.,   7.],\n",
              "       [ 60.,  21.,   6.,   3.,  10.]])"
            ]
          },
          "metadata": {
            "tags": []
          },
          "execution_count": 8
        }
      ]
    },
    {
      "cell_type": "code",
      "metadata": {
        "id": "u69y_mm1FPHd",
        "colab_type": "code",
        "colab": {}
      },
      "source": [
        "#Loading the trained model\n",
        "model = keras.models.load_model('model_new_3.0')"
      ],
      "execution_count": 10,
      "outputs": []
    },
    {
      "cell_type": "code",
      "metadata": {
        "id": "SVE3rY9MLzy1",
        "colab_type": "code",
        "colab": {}
      },
      "source": [
        "#Tokenizer object that is to be used here for preprocessing input for prediction has to be the same as that of which was used while constructing the initial dataset for training.\n",
        "#But since Tokenizer API doesn't have a random component to it, each time the Tokenizer API is fit to the same data it gives us consistent encoding for words.\n",
        "#Therefore the need for pickling the tokenizer object during training phase is not necessary.\n",
        "\n",
        "phrase_and_ids = pd.read_table('dictionary.txt',delimiter='|',names=['Phrase', 'PhraseID'])\n",
        "ids_and_labels = pd.read_table('sentiment_labels.txt',delimiter='|',names=['PhraseID', 'Labels'],header=0)\n",
        "df_all = phrase_and_ids.merge(ids_and_labels, how='inner', on='PhraseID')\n",
        "t = Tokenizer(filters = '!\"#$%&()*+,-./:;<=>?@[\\\\]^_`{|}~\\t\\n\\'')\n",
        "t.fit_on_texts(df_all.iloc[:,0])"
      ],
      "execution_count": 11,
      "outputs": []
    },
    {
      "cell_type": "code",
      "metadata": {
        "id": "qwT0hS10E_sL",
        "colab_type": "code",
        "colab": {}
      },
      "source": [
        "#Running prediction on set of reviews for each phone, and storing the result of which in phone_sent_scores list\n",
        "\n",
        "phone_sent_scores = []\n",
        "for phone in phone_rev:\n",
        "  spec_dict = {}\n",
        "  reviews = pd.Series(phone['reviews'])\n",
        "  encoded_rev = t.texts_to_sequences(reviews)\n",
        "  padded_docs = pad_sequences(encoded_rev, maxlen=56, padding='post')\n",
        "  pred_score = model.predict(padded_docs)\n",
        "  spec_dict['name'] = phone['name']\n",
        "  spec_dict['scores'] = pred_score.reshape(1,-1)[0]\n",
        "  spec_dict['revs'] = reviews\n",
        "  phone_sent_scores.append(spec_dict)"
      ],
      "execution_count": 12,
      "outputs": []
    },
    {
      "cell_type": "code",
      "metadata": {
        "id": "o4uaN_Obq0ya",
        "colab_type": "code",
        "colab": {}
      },
      "source": [
        "#Constructing dataframe which contains predicted score for each user's review of each mobile\n",
        "list_of_df = []\n",
        "for i in phone_sent_scores:\n",
        "  df_temp = pd.DataFrame()\n",
        "  df_temp['Phone Name'] = pd.Series([i['name']]).repeat(len(i['scores'])).reset_index(drop=True)\n",
        "  df_temp['Phone Reviews'] = i['revs']\n",
        "  df_temp['Sentiment Score'] = i['scores']\n",
        "  list_of_df.append(df_temp)\n",
        "df_pred = pd.concat(list_of_df,ignore_index=True)"
      ],
      "execution_count": 13,
      "outputs": []
    },
    {
      "cell_type": "code",
      "metadata": {
        "id": "n1cm5ZA_vYC5",
        "colab_type": "code",
        "colab": {
          "base_uri": "https://localhost:8080/",
          "height": 197
        },
        "outputId": "9bdbaa17-b6f6-4a27-e877-137e52754348"
      },
      "source": [
        "df_pred.to_csv('Prediction_Sentimet_Scores.csv')\n",
        "df_pred.head()"
      ],
      "execution_count": 14,
      "outputs": [
        {
          "output_type": "execute_result",
          "data": {
            "text/html": [
              "<div>\n",
              "<style scoped>\n",
              "    .dataframe tbody tr th:only-of-type {\n",
              "        vertical-align: middle;\n",
              "    }\n",
              "\n",
              "    .dataframe tbody tr th {\n",
              "        vertical-align: top;\n",
              "    }\n",
              "\n",
              "    .dataframe thead th {\n",
              "        text-align: right;\n",
              "    }\n",
              "</style>\n",
              "<table border=\"1\" class=\"dataframe\">\n",
              "  <thead>\n",
              "    <tr style=\"text-align: right;\">\n",
              "      <th></th>\n",
              "      <th>Phone Name</th>\n",
              "      <th>Phone Reviews</th>\n",
              "      <th>Sentiment Score</th>\n",
              "    </tr>\n",
              "  </thead>\n",
              "  <tbody>\n",
              "    <tr>\n",
              "      <th>0</th>\n",
              "      <td>Samsung Galaxy M31 (Ocean Blue, 6GB RAM, 64GB ...</td>\n",
              "      <td>Best camera, very good battery life, eat body ...</td>\n",
              "      <td>0.825363</td>\n",
              "    </tr>\n",
              "    <tr>\n",
              "      <th>1</th>\n",
              "      <td>Samsung Galaxy M31 (Ocean Blue, 6GB RAM, 64GB ...</td>\n",
              "      <td>This is best thing you can get at this price f...</td>\n",
              "      <td>0.474976</td>\n",
              "    </tr>\n",
              "    <tr>\n",
              "      <th>2</th>\n",
              "      <td>Samsung Galaxy M31 (Ocean Blue, 6GB RAM, 64GB ...</td>\n",
              "      <td>3rd class front camera. 32 MP front camera n l...</td>\n",
              "      <td>0.468452</td>\n",
              "    </tr>\n",
              "    <tr>\n",
              "      <th>3</th>\n",
              "      <td>Samsung Galaxy M31 (Ocean Blue, 6GB RAM, 64GB ...</td>\n",
              "      <td>Dear Amazon &amp; samsung you have broke my trust,...</td>\n",
              "      <td>0.409296</td>\n",
              "    </tr>\n",
              "    <tr>\n",
              "      <th>4</th>\n",
              "      <td>Samsung Galaxy M31 (Ocean Blue, 6GB RAM, 64GB ...</td>\n",
              "      <td>Lets just begin with the obvious. This phone's...</td>\n",
              "      <td>0.354649</td>\n",
              "    </tr>\n",
              "  </tbody>\n",
              "</table>\n",
              "</div>"
            ],
            "text/plain": [
              "                                          Phone Name  ... Sentiment Score\n",
              "0  Samsung Galaxy M31 (Ocean Blue, 6GB RAM, 64GB ...  ...        0.825363\n",
              "1  Samsung Galaxy M31 (Ocean Blue, 6GB RAM, 64GB ...  ...        0.474976\n",
              "2  Samsung Galaxy M31 (Ocean Blue, 6GB RAM, 64GB ...  ...        0.468452\n",
              "3  Samsung Galaxy M31 (Ocean Blue, 6GB RAM, 64GB ...  ...        0.409296\n",
              "4  Samsung Galaxy M31 (Ocean Blue, 6GB RAM, 64GB ...  ...        0.354649\n",
              "\n",
              "[5 rows x 3 columns]"
            ]
          },
          "metadata": {
            "tags": []
          },
          "execution_count": 14
        }
      ]
    },
    {
      "cell_type": "code",
      "metadata": {
        "id": "v02bkEueQty4",
        "colab_type": "code",
        "colab": {}
      },
      "source": [
        "#Mapping the sentiment scores to 5 classes.\n",
        "#Finally calculating the star rating per phone myself using the mapping defined below.\n",
        "\n",
        "star_computed = []\n",
        "def conv_cat(x):\n",
        "  if(x>=0 and x<=0.1):\n",
        "    return 0\n",
        "  if(x>0.1 and x<=0.2):\n",
        "    return 1    \n",
        "  if(x>0.2 and x<=0.6):\n",
        "    return 2 \n",
        "  if(x>0.6 and x<=0.8):\n",
        "    return 3\n",
        "  if(x>0.8 and x<=1):\n",
        "    return 4 \n",
        "for i in phone_sent_scores:\n",
        "  label = pd.Series(i['scores']).map(lambda x: conv_cat(x))\n",
        "  star_computed.append(np.bincount(label)[::-1])"
      ],
      "execution_count": 15,
      "outputs": []
    },
    {
      "cell_type": "code",
      "metadata": {
        "id": "c0zJb_S5UF4m",
        "colab_type": "code",
        "colab": {}
      },
      "source": [
        "star_computed1 = np.array(star_computed)*100/np.sum(np.array(star_computed),axis=1).reshape(11,1)"
      ],
      "execution_count": 16,
      "outputs": []
    },
    {
      "cell_type": "code",
      "metadata": {
        "id": "bZb7aR0pUxrs",
        "colab_type": "code",
        "colab": {
          "base_uri": "https://localhost:8080/",
          "height": 691
        },
        "outputId": "4be1eab2-1be9-451c-a628-280b9db80ffb"
      },
      "source": [
        "#Comparing the star ratings provided by Amazon.in and the one calculated by myself.\n",
        "\n",
        "#There is a resemblance between them though, especially for ratings (1,2,4).\n",
        "\n",
        "#One fact to be noted here is that, Amazon may not use every customer's star rating for calculating the final star ratings, they filter it based on wheather a customer\n",
        "#actually bought the product, or wheather the review is related to issue of phone or not, etc.\n",
        "\n",
        "#On the other hand I've used every customer's opinion into calculating star ratings..\n",
        "\n",
        "#One future enhancement would be to first extract those comments that directly talks about the product and those who are verified customers, \n",
        "#and then calculate sentiment score for them alone to finalize star ratings\n",
        "\n",
        "barWidth = 0.25\n",
        "f, axs = plt.subplots(3, 4, sharey=True)\n",
        "\n",
        "f.tight_layout()\n",
        "\n",
        "f.set_figheight(10)\n",
        "f.set_figwidth(20)\n",
        "\n",
        "(ax1,ax2,ax3,ax4) = axs[0]\n",
        "(ax5,ax6,ax7,ax8) = axs[1]\n",
        "(ax9,ax10,ax11,ax12) = axs[2]\n",
        "br1 = np.arange(1,6)[::-1] \n",
        "ax1.bar(br1, star_computed1[0], color ='r', width = barWidth,label='Computed Reviews') \n",
        "ax1.bar(br1+0.25,np_star_stats_refined[0] , color ='g', width = barWidth,label='Amazon Reviews') \n",
        "ax1.set_xlabel(\"Ratings\")\n",
        "ax1.set_ylabel(\"Percentage\")\n",
        "ax1.set_title(\"Samsung Galaxy M31 (Ocean Blue)\")\n",
        "ax1.legend()\n",
        "\n",
        "ax2.bar(br1, star_computed1[1], color ='grey', width = barWidth,label='Computed Reviews') \n",
        "ax2.bar(br1+0.25,np_star_stats_refined[1] , color ='black', width = barWidth,label='Amazon Reviews') \n",
        "ax2.set_xlabel(\"Ratings\")\n",
        "ax2.set_ylabel(\"Percentage\")\n",
        "ax2.set_title(\"Samsung Galaxy M21 (Raven Black)\")\n",
        "ax2.legend()\n",
        "\n",
        "\n",
        "ax3.bar(br1, star_computed1[2], color ='r', width = barWidth,label='Computed Reviews') \n",
        "ax3.bar(br1+0.25,np_star_stats_refined[2] , color ='grey', width = barWidth,label='Amazon Reviews') \n",
        "ax3.set_xlabel(\"Ratings\")\n",
        "ax3.set_ylabel(\"Percentage\")\n",
        "ax3.set_title(\"Samsung Galaxy M31 (Space Black)\")\n",
        "ax3.legend()\n",
        "\n",
        "\n",
        "ax4.bar(br1, star_computed1[3], color ='grey', width = barWidth,label='Computed Reviews') \n",
        "ax4.bar(br1+0.25,np_star_stats_refined[3] , color ='blue', width = barWidth,label='Amazon Reviews') \n",
        "ax4.set_xlabel(\"Ratings\")\n",
        "ax4.set_ylabel(\"Percentage\")\n",
        "ax4.set_title(\"OPPO A5 2020 (Dazzling White)\")\n",
        "ax4.legend()\n",
        "\n",
        "ax5.bar(br1, star_computed1[4], color ='pink', width = barWidth,label='Computed Reviews') \n",
        "ax5.bar(br1+0.25,np_star_stats_refined[4] , color ='black', width = barWidth,label='Amazon Reviews') \n",
        "ax5.set_xlabel(\"Ratings\")\n",
        "ax5.set_ylabel(\"Percentage\")\n",
        "ax5.set_title(\"Samsung Galaxy M21 (Raven Black, 4GB RAM)\")\n",
        "ax5.legend()\n",
        "\n",
        "ax6.bar(br1, star_computed1[5], color ='yellow', width = barWidth,label='Computed Reviews') \n",
        "ax6.bar(br1+0.25,np_star_stats_refined[5] , color ='blue', width = barWidth,label='Amazon Reviews') \n",
        "ax6.set_xlabel(\"Ratings\")\n",
        "ax6.set_ylabel(\"Percentage\")\n",
        "ax6.set_title(\"Samsung Galaxy M21 (Midnight Blue)\")\n",
        "ax6.legend()\n",
        "\n",
        "ax7.bar(br1, star_computed1[6], color ='yellow', width = barWidth,label='Computed Reviews') \n",
        "ax7.bar(br1+0.25,np_star_stats_refined[6] , color ='g', width = barWidth,label='Amazon Reviews') \n",
        "ax7.set_xlabel(\"Ratings\")\n",
        "ax7.set_ylabel(\"Percentage\")\n",
        "ax7.set_title(\"OnePlus 7T (Glacier Blue)\")\n",
        "ax7.legend()\n",
        "\n",
        "ax8.bar(br1, star_computed1[7], color ='black', width = barWidth,label='Computed Reviews') \n",
        "ax8.bar(br1+0.25,np_star_stats_refined[7] , color ='g', width = barWidth,label='Amazon Reviews') \n",
        "ax8.set_xlabel(\"Ratings\")\n",
        "ax8.set_ylabel(\"Percentage\")\n",
        "ax8.set_title(\"Redmi Note 9 (Aqua Green)\")\n",
        "ax8.legend()\n",
        "\n",
        "ax9.bar(br1, star_computed1[8], color ='g', width = barWidth,label='Computed Reviews') \n",
        "ax9.bar(br1+0.25,np_star_stats_refined[8] , color ='orange', width = barWidth,label='Amazon Reviews') \n",
        "ax9.set_xlabel(\"Ratings\")\n",
        "ax9.set_ylabel(\"Percentage\")\n",
        "ax9.set_title(\"Redmi 8A Dual (Sky White)\")\n",
        "ax9.legend()\n",
        "\n",
        "ax10.bar(br1, star_computed1[9], color ='r', width = barWidth,label='Computed Reviews') \n",
        "ax10.bar(br1+0.25,np_star_stats_refined[9] , color ='black', width = barWidth,label='Amazon Reviews') \n",
        "ax10.set_xlabel(\"Ratings\")\n",
        "ax10.set_ylabel(\"Percentage\")\n",
        "ax10.set_title(\"Redmi Note 8 (Moonlight White)\")\n",
        "ax10.legend()\n",
        "\n",
        "ax11.bar(br1, star_computed1[10], color ='blue', width = barWidth,label='Computed Reviews') \n",
        "ax11.bar(br1+0.25,np_star_stats_refined[10] , color ='g', width = barWidth,label='Amazon Reviews') \n",
        "ax11.set_xlabel(\"Ratings\")\n",
        "ax11.set_ylabel(\"Percentage\")\n",
        "ax11.set_title(\"Redmi Note 9 Pro Max (Interstellar Black)\")\n",
        "ax11.legend()\n",
        "\n",
        "ax12.set_visible(False)\n",
        "\n",
        "plt.show() \n"
      ],
      "execution_count": 17,
      "outputs": [
        {
          "output_type": "display_data",
          "data": {
            "image/png": "[encoded data removed]",
            "text/plain": [
              "<Figure size 1440x720 with 12 Axes>"
            ]
          },
          "metadata": {
            "tags": [],
            "needs_background": "light"
          }
        }
      ]
    }
  ]
}