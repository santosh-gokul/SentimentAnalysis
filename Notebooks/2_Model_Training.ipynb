{
  "nbformat": 4,
  "nbformat_minor": 0,
  "metadata": {
    "colab": {
      "name": "Model_Training.ipynb",
      "provenance": [],
      "collapsed_sections": []
    },
    "kernelspec": {
      "name": "python3",
      "display_name": "Python 3"
    },
    "accelerator": "GPU"
  },
  "cells": [
    {
      "cell_type": "markdown",
      "metadata": {
        "id": "oOQq-0qr9ff6",
        "colab_type": "text"
      },
      "source": [
        "I've approached this problem as a regression problem and trained the model with the helps of LSTMs, details of the model architecture are furnished below.\n",
        "\n",
        "I've evaluated the model using 3 iterations of hold-out validation, the details of which are furnished below"
      ]
    },
    {
      "cell_type": "code",
      "metadata": {
        "id": "GyKzL47tmfsq",
        "colab_type": "code",
        "colab": {}
      },
      "source": [
        "from google.colab import drive\n",
        "import pandas as pd\n",
        "import numpy as np"
      ],
      "execution_count": 1,
      "outputs": []
    },
    {
      "cell_type": "code",
      "metadata": {
        "id": "p-5H52Plmo-F",
        "colab_type": "code",
        "colab": {
          "base_uri": "https://localhost:8080/",
          "height": 125
        },
        "outputId": "beb6b00d-1cff-4591-c577-38fbb12253cc"
      },
      "source": [
        "drive.mount('/content/gdrive')\n"
      ],
      "execution_count": 2,
      "outputs": [
        {
          "output_type": "stream",
          "text": [
            "Go to this URL in a browser: https://accounts.google.com/o/oauth2/auth?client_id=947318989803-6bn6qk8qdgf4n4g3pfee6491hc0brc4i.apps.googleusercontent.com&redirect_uri=urn%3aietf%3awg%3aoauth%3a2.0%3aoob&response_type=code&scope=email%20https%3a%2f%2fwww.googleapis.com%2fauth%2fdocs.test%20https%3a%2f%2fwww.googleapis.com%2fauth%2fdrive%20https%3a%2f%2fwww.googleapis.com%2fauth%2fdrive.photos.readonly%20https%3a%2f%2fwww.googleapis.com%2fauth%2fpeopleapi.readonly\n",
            "\n",
            "Enter your authorization code:\n",
            "··········\n",
            "Mounted at /content/gdrive\n"
          ],
          "name": "stdout"
        }
      ]
    },
    {
      "cell_type": "code",
      "metadata": {
        "id": "3NqKL57nEFxk",
        "colab_type": "code",
        "colab": {
          "base_uri": "https://localhost:8080/",
          "height": 34
        },
        "outputId": "c650c9ee-df35-4d5d-b71e-f32249c07c52"
      },
      "source": [
        "#Please mount it to appropriate directory where all the files are put\n",
        "cd gdrive/My\\ Drive/73Strings"
      ],
      "execution_count": 12,
      "outputs": [
        {
          "output_type": "stream",
          "text": [
            "/content/gdrive/My Drive/73Strings\n"
          ],
          "name": "stdout"
        }
      ]
    },
    {
      "cell_type": "code",
      "metadata": {
        "id": "9X31Wt1vm3rQ",
        "colab_type": "code",
        "colab": {}
      },
      "source": [
        "#Constructing dataframe using dictionary.txt and sentiment_labels.txt\n",
        "phrase_and_ids = pd.read_table('dictionary.txt',delimiter='|',names=['Phrase', 'PhraseID'])\n",
        "ids_and_labels = pd.read_table('sentiment_labels.txt',delimiter='|',names=['PhraseID', 'Labels'],header=0)\n",
        "df_all = phrase_and_ids.merge(ids_and_labels, how='inner', on='PhraseID')"
      ],
      "execution_count": null,
      "outputs": []
    },
    {
      "cell_type": "code",
      "metadata": {
        "id": "Q4f571pDFIM6",
        "colab_type": "code",
        "colab": {
          "base_uri": "https://localhost:8080/",
          "height": 406
        },
        "outputId": "ca8379c6-5378-4606-e24a-e4d1e716ca77"
      },
      "source": [
        "#Glimpse of the dataset\n",
        "df_all"
      ],
      "execution_count": null,
      "outputs": [
        {
          "output_type": "execute_result",
          "data": {
            "text/html": [
              "<div>\n",
              "<style scoped>\n",
              "    .dataframe tbody tr th:only-of-type {\n",
              "        vertical-align: middle;\n",
              "    }\n",
              "\n",
              "    .dataframe tbody tr th {\n",
              "        vertical-align: top;\n",
              "    }\n",
              "\n",
              "    .dataframe thead th {\n",
              "        text-align: right;\n",
              "    }\n",
              "</style>\n",
              "<table border=\"1\" class=\"dataframe\">\n",
              "  <thead>\n",
              "    <tr style=\"text-align: right;\">\n",
              "      <th></th>\n",
              "      <th>Phrase</th>\n",
              "      <th>PhraseID</th>\n",
              "      <th>Labels</th>\n",
              "    </tr>\n",
              "  </thead>\n",
              "  <tbody>\n",
              "    <tr>\n",
              "      <th>0</th>\n",
              "      <td>!</td>\n",
              "      <td>0</td>\n",
              "      <td>0.50000</td>\n",
              "    </tr>\n",
              "    <tr>\n",
              "      <th>1</th>\n",
              "      <td>! '</td>\n",
              "      <td>22935</td>\n",
              "      <td>0.52778</td>\n",
              "    </tr>\n",
              "    <tr>\n",
              "      <th>2</th>\n",
              "      <td>! ''</td>\n",
              "      <td>18235</td>\n",
              "      <td>0.50000</td>\n",
              "    </tr>\n",
              "    <tr>\n",
              "      <th>3</th>\n",
              "      <td>! Alas</td>\n",
              "      <td>179257</td>\n",
              "      <td>0.44444</td>\n",
              "    </tr>\n",
              "    <tr>\n",
              "      <th>4</th>\n",
              "      <td>! Brilliant</td>\n",
              "      <td>22936</td>\n",
              "      <td>0.86111</td>\n",
              "    </tr>\n",
              "    <tr>\n",
              "      <th>...</th>\n",
              "      <td>...</td>\n",
              "      <td>...</td>\n",
              "      <td>...</td>\n",
              "    </tr>\n",
              "    <tr>\n",
              "      <th>239227</th>\n",
              "      <td>zoning ordinances to protect your community fr...</td>\n",
              "      <td>220441</td>\n",
              "      <td>0.13889</td>\n",
              "    </tr>\n",
              "    <tr>\n",
              "      <th>239228</th>\n",
              "      <td>zzzzzzzzz</td>\n",
              "      <td>179256</td>\n",
              "      <td>0.19444</td>\n",
              "    </tr>\n",
              "    <tr>\n",
              "      <th>239229</th>\n",
              "      <td>élan</td>\n",
              "      <td>220442</td>\n",
              "      <td>0.51389</td>\n",
              "    </tr>\n",
              "    <tr>\n",
              "      <th>239230</th>\n",
              "      <td>É</td>\n",
              "      <td>220443</td>\n",
              "      <td>0.50000</td>\n",
              "    </tr>\n",
              "    <tr>\n",
              "      <th>239231</th>\n",
              "      <td>É um passatempo descompromissado</td>\n",
              "      <td>220444</td>\n",
              "      <td>0.50000</td>\n",
              "    </tr>\n",
              "  </tbody>\n",
              "</table>\n",
              "<p>239232 rows × 3 columns</p>\n",
              "</div>"
            ],
            "text/plain": [
              "                                                   Phrase  PhraseID   Labels\n",
              "0                                                       !         0  0.50000\n",
              "1                                                     ! '     22935  0.52778\n",
              "2                                                    ! ''     18235  0.50000\n",
              "3                                                  ! Alas    179257  0.44444\n",
              "4                                             ! Brilliant     22936  0.86111\n",
              "...                                                   ...       ...      ...\n",
              "239227  zoning ordinances to protect your community fr...    220441  0.13889\n",
              "239228                                          zzzzzzzzz    179256  0.19444\n",
              "239229                                               élan    220442  0.51389\n",
              "239230                                                  É    220443  0.50000\n",
              "239231                   É um passatempo descompromissado    220444  0.50000\n",
              "\n",
              "[239232 rows x 3 columns]"
            ]
          },
          "metadata": {
            "tags": []
          },
          "execution_count": 5
        }
      ]
    },
    {
      "cell_type": "code",
      "metadata": {
        "id": "Z-_klJPVq1Ml",
        "colab_type": "code",
        "colab": {}
      },
      "source": [
        "#Estimating the maximum length of phrases.\n",
        "length_phrases = []\n",
        "\n",
        "for index, row in df_all.iterrows():\n",
        "  sentence = (row['Phrase'])\n",
        "  sentence_words = sentence.split(' ')\n",
        "  len_sentence_words = len(sentence_words)\n",
        "  length_phrases.append(len_sentence_words)\n",
        "max_length_of_a_phrase = max(length_phrases)"
      ],
      "execution_count": null,
      "outputs": []
    },
    {
      "cell_type": "code",
      "metadata": {
        "id": "sZQW7KtcFjl_",
        "colab_type": "code",
        "colab": {}
      },
      "source": [
        "# Creating a dictionary that maps a word to its embedding(100 dimensional)\n",
        "#Used GloVe embeddings\n",
        "embeddings_index = dict()\n",
        "f = open('glove_6B_100d.txt')\n",
        "for line in f:\n",
        "\tvalues = line.split()\n",
        "\tword = values[0]\n",
        "\tcoefs = np.asarray(values[1:], dtype='float32')\n",
        "\tembeddings_index[word.lower()] = coefs\n",
        "f.close()"
      ],
      "execution_count": null,
      "outputs": []
    },
    {
      "cell_type": "code",
      "metadata": {
        "id": "g3j0MB8yJwGt",
        "colab_type": "code",
        "colab": {}
      },
      "source": [
        "#Transforming list of phrases, such that from each phrase special characters(mentioned below in filter param) are removed, \n",
        "# and words are encoded, and finally the phrase is padded to max_length_of_a_phrase\n",
        "from keras.preprocessing.sequence import pad_sequences\n",
        "from keras.preprocessing.text import Tokenizer\n",
        "\n",
        "\n",
        "t = Tokenizer(filters = '!\"#$%&()*+,-./:;<=>?@[\\\\]^_`{|}~\\t\\n\\'')\n",
        "t.fit_on_texts(df_all.iloc[:,0])\n",
        "encoded_docs = t.texts_to_sequences(df_all.iloc[:,0])\n",
        "max_length = max_length_of_a_phrase\n",
        "padded_docs = pad_sequences(encoded_docs, maxlen=max_length, padding='post')\n"
      ],
      "execution_count": 8,
      "outputs": []
    },
    {
      "cell_type": "code",
      "metadata": {
        "id": "VrI-trD6QFti",
        "colab_type": "code",
        "colab": {}
      },
      "source": [
        "vocab_size = len(t.word_index) + 1"
      ],
      "execution_count": null,
      "outputs": []
    },
    {
      "cell_type": "code",
      "metadata": {
        "id": "0CqgFSXUM6u0",
        "colab_type": "code",
        "colab": {}
      },
      "source": [
        "#Constructing the embedding_matrix which maps the encoded words to its respective word embeddings\n",
        "embedding_matrix = np.zeros((vocab_size, 100))\n",
        "for word, i in t.word_index.items():\n",
        "\tembedding_vector = embeddings_index.get(word.lower())\n",
        "\tif embedding_vector is not None:\n",
        "\t\tembedding_matrix[i] = embedding_vector"
      ],
      "execution_count": null,
      "outputs": []
    },
    {
      "cell_type": "code",
      "metadata": {
        "id": "6bbOm8tJRFqD",
        "colab_type": "code",
        "colab": {}
      },
      "source": [
        "#Performing 3 iterations of hold-out validation to assess the model\n",
        "from sklearn.model_selection import train_test_split\n",
        "X_train1, X_test1, y_train1, y_test1 = train_test_split(\n",
        "    padded_docs, df_all.loc[:,'Labels'], test_size=0.20, random_state=42)\n",
        "X_train2, X_test2, y_train2, y_test2 = train_test_split(\n",
        "    padded_docs, df_all.loc[:,'Labels'], test_size=0.20, random_state=43)\n",
        "X_train3, X_test3, y_train3, y_test3 = train_test_split(padded_docs, df_all.loc[:,'Labels'], test_size=0.20, random_state=44)"
      ],
      "execution_count": null,
      "outputs": []
    },
    {
      "cell_type": "code",
      "metadata": {
        "id": "iYxaPivrqf4I",
        "colab_type": "code",
        "colab": {
          "base_uri": "https://localhost:8080/",
          "height": 425
        },
        "outputId": "fb3f0368-41c8-453e-c982-9fe35851e9a6"
      },
      "source": [
        "#I've experimented with various architectures, the model architecture which is given below is the best one among them.\n",
        "from keras.models import Sequential\n",
        "from keras.layers import Dense\n",
        "from keras.layers import Flatten\n",
        "from keras.layers import Embedding\n",
        "from keras.layers import Bidirectional\n",
        "from keras.layers import LSTM\n",
        "from keras.layers import Dropout\n",
        "\n",
        "\n",
        "\n",
        "model = Sequential()\n",
        "e = Embedding(vocab_size, 100, weights=[embedding_matrix], input_length=max_length_of_a_phrase, trainable=False)\n",
        "model.add(e)\n",
        "#model.add(Flatten())\n",
        "model.add(LSTM(512))\n",
        "model.add(Dropout(0.30))\n",
        "model.add(Dense(200,activation='relu'))\n",
        "model.add(Dropout(0.30))\n",
        "model.add(Dense(100, activation='relu'))\n",
        "model.add(Dense(1,activation='relu'))\n",
        "\n",
        "model.compile(optimizer='adam', loss='mse', metrics=['mse','mae'])\n",
        "# summarize the model\n",
        "print(model.summary())"
      ],
      "execution_count": null,
      "outputs": [
        {
          "output_type": "stream",
          "text": [
            "Model: \"sequential_2\"\n",
            "_________________________________________________________________\n",
            "Layer (type)                 Output Shape              Param #   \n",
            "=================================================================\n",
            "embedding_2 (Embedding)      (None, 56, 100)           1806000   \n",
            "_________________________________________________________________\n",
            "lstm_2 (LSTM)                (None, 512)               1255424   \n",
            "_________________________________________________________________\n",
            "dropout_4 (Dropout)          (None, 512)               0         \n",
            "_________________________________________________________________\n",
            "dense_6 (Dense)              (None, 200)               102600    \n",
            "_________________________________________________________________\n",
            "dropout_5 (Dropout)          (None, 200)               0         \n",
            "_________________________________________________________________\n",
            "dense_7 (Dense)              (None, 100)               20100     \n",
            "_________________________________________________________________\n",
            "dense_8 (Dense)              (None, 1)                 101       \n",
            "=================================================================\n",
            "Total params: 3,184,225\n",
            "Trainable params: 1,378,225\n",
            "Non-trainable params: 1,806,000\n",
            "_________________________________________________________________\n",
            "None\n"
          ],
          "name": "stdout"
        }
      ]
    },
    {
      "cell_type": "code",
      "metadata": {
        "id": "x1MfOBwHtZ4z",
        "colab_type": "code",
        "colab": {
          "base_uri": "https://localhost:8080/",
          "height": 727
        },
        "outputId": "e416cc4b-0b42-4b4a-d3e1-0d5ec056af66"
      },
      "source": [
        "history = model.fit(X_train3, y_train3, epochs=20,validation_data=(X_test3,y_test3),batch_size=128)"
      ],
      "execution_count": null,
      "outputs": [
        {
          "output_type": "stream",
          "text": [
            "Epoch 1/20\n",
            "1496/1496 [==============================] - 35s 23ms/step - loss: 0.0285 - mse: 0.0285 - mae: 0.1194 - val_loss: 0.0174 - val_mse: 0.0174 - val_mae: 0.0972\n",
            "Epoch 2/20\n",
            "1496/1496 [==============================] - 35s 23ms/step - loss: 0.0164 - mse: 0.0164 - mae: 0.0948 - val_loss: 0.0155 - val_mse: 0.0155 - val_mae: 0.0922\n",
            "Epoch 3/20\n",
            "1496/1496 [==============================] - 35s 23ms/step - loss: 0.0143 - mse: 0.0143 - mae: 0.0886 - val_loss: 0.0136 - val_mse: 0.0136 - val_mae: 0.0869\n",
            "Epoch 4/20\n",
            "1496/1496 [==============================] - 35s 23ms/step - loss: 0.0128 - mse: 0.0128 - mae: 0.0838 - val_loss: 0.0138 - val_mse: 0.0138 - val_mae: 0.0871\n",
            "Epoch 5/20\n",
            "1496/1496 [==============================] - 35s 23ms/step - loss: 0.0116 - mse: 0.0116 - mae: 0.0797 - val_loss: 0.0119 - val_mse: 0.0119 - val_mae: 0.0796\n",
            "Epoch 6/20\n",
            "1496/1496 [==============================] - 35s 23ms/step - loss: 0.0106 - mse: 0.0106 - mae: 0.0762 - val_loss: 0.0127 - val_mse: 0.0127 - val_mae: 0.0838\n",
            "Epoch 7/20\n",
            "1496/1496 [==============================] - 35s 24ms/step - loss: 0.0098 - mse: 0.0098 - mae: 0.0735 - val_loss: 0.0112 - val_mse: 0.0112 - val_mae: 0.0772\n",
            "Epoch 8/20\n",
            "1496/1496 [==============================] - 35s 24ms/step - loss: 0.0092 - mse: 0.0092 - mae: 0.0712 - val_loss: 0.0103 - val_mse: 0.0103 - val_mae: 0.0752\n",
            "Epoch 9/20\n",
            "1496/1496 [==============================] - 35s 24ms/step - loss: 0.0086 - mse: 0.0086 - mae: 0.0691 - val_loss: 0.0101 - val_mse: 0.0101 - val_mae: 0.0747\n",
            "Epoch 10/20\n",
            "1496/1496 [==============================] - 35s 24ms/step - loss: 0.0081 - mse: 0.0081 - mae: 0.0669 - val_loss: 0.0104 - val_mse: 0.0104 - val_mae: 0.0771\n",
            "Epoch 11/20\n",
            "1496/1496 [==============================] - 35s 24ms/step - loss: 0.0077 - mse: 0.0077 - mae: 0.0652 - val_loss: 0.0095 - val_mse: 0.0095 - val_mae: 0.0730\n",
            "Epoch 12/20\n",
            "1496/1496 [==============================] - 36s 24ms/step - loss: 0.0073 - mse: 0.0073 - mae: 0.0635 - val_loss: 0.0094 - val_mse: 0.0094 - val_mae: 0.0711\n",
            "Epoch 13/20\n",
            "1496/1496 [==============================] - 35s 24ms/step - loss: 0.0070 - mse: 0.0070 - mae: 0.0621 - val_loss: 0.0095 - val_mse: 0.0095 - val_mae: 0.0714\n",
            "Epoch 14/20\n",
            "1496/1496 [==============================] - 35s 23ms/step - loss: 0.0066 - mse: 0.0066 - mae: 0.0606 - val_loss: 0.0092 - val_mse: 0.0092 - val_mae: 0.0706\n",
            "Epoch 15/20\n",
            "1496/1496 [==============================] - 35s 23ms/step - loss: 0.0063 - mse: 0.0063 - mae: 0.0591 - val_loss: 0.0095 - val_mse: 0.0095 - val_mae: 0.0707\n",
            "Epoch 16/20\n",
            "1496/1496 [==============================] - 35s 24ms/step - loss: 0.0060 - mse: 0.0060 - mae: 0.0578 - val_loss: 0.0093 - val_mse: 0.0093 - val_mae: 0.0712\n",
            "Epoch 17/20\n",
            "1496/1496 [==============================] - 35s 24ms/step - loss: 0.0057 - mse: 0.0057 - mae: 0.0564 - val_loss: 0.0091 - val_mse: 0.0091 - val_mae: 0.0701\n",
            "Epoch 18/20\n",
            "1496/1496 [==============================] - 35s 24ms/step - loss: 0.0055 - mse: 0.0055 - mae: 0.0553 - val_loss: 0.0092 - val_mse: 0.0092 - val_mae: 0.0707\n",
            "Epoch 19/20\n",
            "1496/1496 [==============================] - 35s 24ms/step - loss: 0.0053 - mse: 0.0053 - mae: 0.0539 - val_loss: 0.0092 - val_mse: 0.0092 - val_mae: 0.0700\n",
            "Epoch 20/20\n",
            "1496/1496 [==============================] - 35s 23ms/step - loss: 0.0050 - mse: 0.0050 - mae: 0.0525 - val_loss: 0.0093 - val_mse: 0.0093 - val_mae: 0.0703\n"
          ],
          "name": "stdout"
        }
      ]
    },
    {
      "cell_type": "code",
      "metadata": {
        "id": "dyl3y3HtPFz0",
        "colab_type": "code",
        "colab": {}
      },
      "source": [
        "#I've already trained the model for all 3 iterations of hold-out validation, and have stored the model and the corresponding history files.\n",
        "# So that it can be loaded later\n",
        "import keras\n",
        "import pickle as pkl\n",
        "model1 = keras.models.load_model('model_new_1.0')\n",
        "model2 = keras.models.load_model('model_new_2.0')\n",
        "model3 = keras.models.load_model('model_new_3.0')\n",
        "\n",
        "with open('history_new_1.0.pkl','rb') as file1:\n",
        "  hist_1 = pkl.load(file1)\n",
        "with open('history_new_2.0.pkl','rb') as file1:\n",
        "  hist_2 = pkl.load(file1)\n",
        "with open('history_new_3.0.pkl','rb') as file1:\n",
        "  hist_3 = pkl.load(file1)"
      ],
      "execution_count": 13,
      "outputs": []
    },
    {
      "cell_type": "code",
      "metadata": {
        "id": "fIR7GDlbqNKb",
        "colab_type": "code",
        "colab": {
          "base_uri": "https://localhost:8080/",
          "height": 52
        },
        "outputId": "a89f794f-d3cd-4a93-e61d-c4d72df96856"
      },
      "source": [
        "#We see the average performance of the model across 3 runs of hold-out validation\n",
        "mean_mae = (hist_1['val_mae'][-1]+hist_2 ['val_mae'][-1]+hist_3['val_mae'][-1])/3\n",
        "mean_mse = (hist_1['val_mse'][-1]+hist_2['val_mse'][-1]+hist_3['val_mse'][-1])/3\n",
        "print(\"The performance of the model architecture across three runs of hold out validation is : \\n Validation_MSE: %f \\t Validation_MAE: %f \" %(mean_mse,mean_mae))"
      ],
      "execution_count": 15,
      "outputs": [
        {
          "output_type": "stream",
          "text": [
            "The performance of the model architecture across three runs of hold out validation is : \n",
            " Validation_MSE: 0.009434 \t Validation_MAE: 0.071322 \n"
          ],
          "name": "stdout"
        }
      ]
    },
    {
      "cell_type": "code",
      "metadata": {
        "id": "NHpZGkhZC2Jq",
        "colab_type": "code",
        "colab": {
          "base_uri": "https://localhost:8080/",
          "height": 52
        },
        "outputId": "3809f37b-634c-4fb5-829f-b8c7a0f031df"
      },
      "source": [
        "#We see the average performance of the model across 3 runs of hold-out validation\n",
        "mean_mae = (hist_1['mae'][-1]+hist_2 ['mae'][-1]+hist_3['mae'][-1])/3\n",
        "mean_mse = (hist_1['mse'][-1]+hist_2['mse'][-1]+hist_3['mse'][-1])/3\n",
        "print(\"The performance of the model architecture across three runs of hold out validation is : \\n Train_MSE: %f \\t Train_MAE: %f \" %(mean_mse,mean_mae))"
      ],
      "execution_count": 14,
      "outputs": [
        {
          "output_type": "stream",
          "text": [
            "The performance of the model architecture across three runs of hold out validation is : \n",
            " Train_MSE: 0.005045 \t Train_MAE: 0.052639 \n"
          ],
          "name": "stdout"
        }
      ]
    },
    {
      "cell_type": "code",
      "metadata": {
        "id": "3CrlGX6cCQ3k",
        "colab_type": "code",
        "colab": {
          "base_uri": "https://localhost:8080/",
          "height": 294
        },
        "outputId": "3e279b1a-7bda-439f-d5c7-6515304028d3"
      },
      "source": [
        "#Plotting the history file(MSE) of model1, for visualization purpose\n",
        "import matplotlib.pyplot as plt\n",
        "plt.plot(hist_1['mse'])\n",
        "plt.plot(hist_1['val_mse'])\n",
        "plt.title('model mse')\n",
        "plt.ylabel('mse')\n",
        "plt.xlabel('epoch')\n",
        "plt.legend(['train', 'test'], loc='upper right')\n",
        "plt.show()"
      ],
      "execution_count": 19,
      "outputs": [
        {
          "output_type": "display_data",
          "data": {
            "image/png": "[encoded data removed]",
            "text/plain": [
              "<Figure size 432x288 with 1 Axes>"
            ]
          },
          "metadata": {
            "tags": [],
            "needs_background": "light"
          }
        }
      ]
    },
    {
      "cell_type": "code",
      "metadata": {
        "id": "P2NI6bmfDd54",
        "colab_type": "code",
        "colab": {
          "base_uri": "https://localhost:8080/",
          "height": 294
        },
        "outputId": "64913c98-4183-44a1-e67a-56af27985734"
      },
      "source": [
        "#Plotting the history file(MAE) of model1, for visualization purpose\n",
        "import matplotlib.pyplot as plt\n",
        "plt.plot(hist_1['mae'])\n",
        "plt.plot(hist_1['val_mae'])\n",
        "plt.title('model mae')\n",
        "plt.ylabel('mae')\n",
        "plt.xlabel('epoch')\n",
        "plt.legend(['train', 'test'], loc='upper right')\n",
        "plt.show()"
      ],
      "execution_count": 20,
      "outputs": [
        {
          "output_type": "display_data",
          "data": {
            "image/png": "[encoded data removed]",
            "text/plain": [
              "<Figure size 432x288 with 1 Axes>"
            ]
          },
          "metadata": {
            "tags": [],
            "needs_background": "light"
          }
        }
      ]
    }
  ]
}