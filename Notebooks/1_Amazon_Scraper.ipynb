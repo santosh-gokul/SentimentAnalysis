{
 "cells": [
  {
   "cell_type": "code",
   "execution_count": null,
   "metadata": {},
   "outputs": [],
   "source": [
    "#Importing packages\n",
    "from selenium import webdriver\n",
    "import pandas as pd\n",
    "import json\n",
    "from selenium.webdriver.support import expected_conditions as ec\n",
    "from selenium.webdriver.common.by import By\n",
    "from selenium.webdriver.support.ui import WebDriverWait"
   ]
  },
  {
   "cell_type": "code",
   "execution_count": null,
   "metadata": {},
   "outputs": [],
   "source": [
    "driver = webdriver.Chrome('chromedriver')\n",
    "wait = WebDriverWait(driver, 10)"
   ]
  },
  {
   "cell_type": "code",
   "execution_count": null,
   "metadata": {},
   "outputs": [],
   "source": [
    "#The phone links are scraped and saved in phone_links.json file\n",
    "f = open('phone_links.json',) \n",
    "phone_links = json.load(f)\n",
    "phone_rev = []"
   ]
  },
  {
   "cell_type": "code",
   "execution_count": null,
   "metadata": {},
   "outputs": [],
   "source": [
    "# 11 mobile phone links are present\n",
    "len(phone_links)"
   ]
  },
  {
   "cell_type": "code",
   "execution_count": null,
   "metadata": {},
   "outputs": [],
   "source": [
    "#Every phone entry contains a link to the starting of the review page (reviewlink), from there on reviews are extracted by \n",
    "#clicking next page until there are no reviews to show for a particular product\n",
    "\n",
    "#I also extracted the star ratings of every product..\n",
    "\n",
    "#All the reviews, star ratings of each product along with its name are stored as a list of dictionary in \n",
    "#phone_rev list\n",
    "\n",
    "for item in phone_links:\n",
    "    if 'review' in item['reviewlink']:\n",
    "        spec_dict = {}\n",
    "        spec_dict['name'] = item['name']\n",
    "        driver.get(item['reviewlink'])\n",
    "        list_of_all_reviews = []\n",
    "        stats = []\n",
    "        star_ratings = wait.until(ec.visibility_of_all_elements_located((By.XPATH,'//table[@id=\"histogramTable\"]/tbody/tr/td[2]/a')))\n",
    "        for ele in star_ratings:\n",
    "            stats.append(ele.get_attribute('title'))\n",
    "\n",
    "        while(True):\n",
    "            try:\n",
    "                h1 = wait.until(ec.visibility_of_all_elements_located((By.XPATH, '//span[@class=\"a-size-base review-text review-text-content\"]/span')))\n",
    "            except:\n",
    "                break\n",
    "            \n",
    "            for ele in h1:\n",
    "                list_of_all_reviews.append(ele.text)\n",
    "            \n",
    "            try:\n",
    "                next_pg = wait.until(ec.visibility_of_all_elements_located((By.XPATH,'//div[@id=\"cm_cr-pagination_bar\"]/ul/li[2]/a')))\n",
    "            except:\n",
    "                break\n",
    "\n",
    "            driver.get(next_pg[0].get_attribute(\"href\"))\n",
    "        spec_dict['reviews'] = list_of_all_reviews\n",
    "        spec_dict['star_stats'] = stats\n",
    "        phone_rev.append(spec_dict)\n",
    "        print(\"Done with phone --> %s\"%(item['name']))\n",
    "\n",
    "    else:\n",
    "        print(\"Ignored phone --> %s\"%(item['name']))"
   ]
  },
  {
   "cell_type": "code",
   "execution_count": null,
   "metadata": {},
   "outputs": [],
   "source": [
    "import pickle as pkl\n",
    "\n",
    "with open('phone_reviews_new.pkl','wb') as file1:\n",
    "    pkl.dump(phone_rev,file1)"
   ]
  },
  {
   "cell_type": "code",
   "execution_count": null,
   "metadata": {},
   "outputs": [],
   "source": [
    "len(phone_rev)"
   ]
  }
 ],
 "metadata": {
  "kernelspec": {
   "display_name": "Python 3",
   "language": "python",
   "name": "python3"
  },
  "language_info": {
   "codemirror_mode": {
    "name": "ipython",
    "version": 3
   },
   "file_extension": ".py",
   "mimetype": "text/x-python",
   "name": "python",
   "nbconvert_exporter": "python",
   "pygments_lexer": "ipython3",
   "version": "3.7.6"
  }
 },
 "nbformat": 4,
 "nbformat_minor": 4
}
